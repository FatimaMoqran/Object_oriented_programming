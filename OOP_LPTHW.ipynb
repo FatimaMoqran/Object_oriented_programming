{
 "cells": [
  {
   "cell_type": "code",
   "execution_count": 1,
   "metadata": {},
   "outputs": [
    {
     "name": "stdout",
     "output_type": "stream",
     "text": [
      "I AM APPLES!\n"
     ]
    }
   ],
   "source": [
    "#Exercice 40\n",
    "#Modules are like dictionaries\n",
    "\n",
    "mystuff = {'apple':\"I AM APPLES!\"}\n",
    "print(mystuff['apple'])"
   ]
  },
  {
   "cell_type": "code",
   "execution_count": 18,
   "metadata": {},
   "outputs": [],
   "source": [
    "#create class Mystuff\n",
    "class MyStuff(object):\n",
    "    \n",
    "    def __init__(self):\n",
    "        self.tangerine = \"And now a thousand years between\"\n",
    "         \n",
    "    def apple(self):\n",
    "        print(\"I AM CLASSY APPLES!\")"
   ]
  },
  {
   "cell_type": "code",
   "execution_count": 19,
   "metadata": {},
   "outputs": [
    {
     "name": "stdout",
     "output_type": "stream",
     "text": [
      "I AM CLASSY APPLES!\n",
      "And now a thousand years between\n"
     ]
    }
   ],
   "source": [
    "thing = MyStuff()\n",
    "thing.apple()\n",
    "print(thing.tangerine)"
   ]
  },
  {
   "cell_type": "code",
   "execution_count": 24,
   "metadata": {},
   "outputs": [
    {
     "name": "stdout",
     "output_type": "stream",
     "text": [
      "Happy birthday to you\n",
      "I don't want to get sued\n",
      "So I will stop right there\n",
      "They rally around that family\n",
      "With pockets full of shells\n"
     ]
    }
   ],
   "source": [
    "class Song(object):\n",
    "    def __init__(self,lyrics):\n",
    "        self.lyrics = lyrics\n",
    "        \n",
    "    def sing_me_a_song(self):\n",
    "        for line in self.lyrics:\n",
    "            print(line)\n",
    "        \n",
    "happy_bday= Song([\"Happy birthday to you\",\n",
    "                 \"I don't want to get sued\",\n",
    "                 \"So I will stop right there\"])\n",
    "\n",
    "bulls_on_parade = Song([\"They rally around that family\",\n",
    "                       \"With pockets full of shells\"])\n",
    "\n",
    "happy_bday.sing_me_a_song()\n",
    "\n",
    "bulls_on_parade.sing_me_a_song()\n",
    "            "
   ]
  },
  {
   "cell_type": "code",
   "execution_count": null,
   "metadata": {},
   "outputs": [],
   "source": []
  }
 ],
 "metadata": {
  "kernelspec": {
   "display_name": "Python 3",
   "language": "python",
   "name": "python3"
  },
  "language_info": {
   "codemirror_mode": {
    "name": "ipython",
    "version": 3
   },
   "file_extension": ".py",
   "mimetype": "text/x-python",
   "name": "python",
   "nbconvert_exporter": "python",
   "pygments_lexer": "ipython3",
   "version": "3.7.1"
  }
 },
 "nbformat": 4,
 "nbformat_minor": 2
}
